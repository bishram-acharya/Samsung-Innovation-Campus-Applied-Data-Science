import nbformat as nbf

notebook_content = {
    "cells": [
        {
            "cell_type": "markdown",
            "metadata": {},
            "source": [
                "# Data Exploration and Feature Engineering\n",
                "\n",
                "This notebook covers various data manipulation and visualization techniques, including merging dataframes, plotting with Matplotlib and Seaborn, and feature selection and engineering."
            ]
        },
        {
            "cell_type": "code",
            "execution_count": None,
            "metadata": {},
            "outputs": [],
            "source": [
                "import pandas as pd\n",
                "import numpy as np\n",
                "import matplotlib.pyplot as plt\n",
                "import seaborn as sns\n",
                "from sklearn.preprocessing import StandardScaler, MinMaxScaler\n",
                "from sklearn.feature_selection import SelectKBest, f_regression\n",
                "\n",
                "sns.set(style=\"whitegrid\")\n",
                "%matplotlib inline"
            ]
        },
        {
            "cell_type": "markdown",
            "metadata": {},
            "source": [
                "## Data Merging and Concatenation\n",
                "\n",
                "### Merging Dataframes\n",
                "We will demonstrate how to merge two dataframes using different join types: inner, left, right, and outer join."
            ]
        },
        {
            "cell_type": "code",
            "execution_count": None,
            "metadata": {},
            "outputs": [],
            "source": [
                "# Creating example dataframes\n",
                "df1 = pd.DataFrame({\n",
                "    'A': ['A0', 'A1', 'A2', 'A3'],\n",
                "    'B': ['B0', 'B1', 'B2', 'B3'],\n",
                "    'C': ['C0', 'C1', 'C2', 'C3'],\n",
                "    'D': ['D0', 'D1', 'D2', 'D3']\n",
                "})\n",
                "\n",
                "df2 = pd.DataFrame({\n",
                "    'A': ['A0', 'A1', 'A4', 'A5'],\n",
                "    'B': ['B0', 'B1', 'B4', 'B5'],\n",
                "    'C': ['C0', 'C1', 'C4', 'C5'],\n",
                "    'D': ['D0', 'D1', 'D4', 'D5']\n",
                "})\n",
                "\n",
                "# Inner Join\n",
                "inner_join = pd.merge(df1, df2, how='inner', on='A')\n",
                "inner_join"
            ]
        },
        {
            "cell_type": "markdown",
            "metadata": {},
            "source": [
                "### Concatenating Dataframes\n",
                "We will concatenate data from different sources."
            ]
        },
        {
            "cell_type": "code",
            "execution_count": None,
            "metadata": {},
            "outputs": [],
            "source": [
                "# Concatenating example dataframes\n",
                "concat_df = pd.concat([df1, df2], axis=0)\n",
                "concat_df"
            ]
        },
        {
            "cell_type": "markdown",
            "metadata": {},
            "source": [
                "### Merging data from `students_list.csv`"
            ]
        },
        {
            "cell_type": "code",
            "execution_count": None,
            "metadata": {},
            "outputs": [],
            "source": [
                "# Load students_list.csv file\n",
                "data_csv = pd.read_csv('C:/Users/bisra/Desktop/sic/students_list.csv')\n",
                "\n",
                "# Assuming there is another dataframe to merge with, creating an example dataframe\n",
                "data_example = pd.DataFrame({\n",
                "    'StudentID': [1, 2, 3, 4],\n",
                "    'Score': [85, 90, 78, 92]\n",
                "})\n",
                "\n",
                "# Merging the data on a common column 'StudentID'\n",
                "merged_data = pd.merge(data_csv, data_example, on='StudentID')\n",
                "merged_data"
            ]
        },
        {
            "cell_type": "markdown",
            "metadata": {},
            "source": [
                "## Plotting with Matplotlib and Seaborn\n",
                "\n",
                "### Bar Plot"
            ]
        },
        {
            "cell_type": "code",
            "execution_count": None,
            "metadata": {},
            "outputs": [],
            "source": [
                "# Creating a bar plot with dummy data\n",
                "x = ['A', 'B', 'C', 'D']\n",
                "y = [10, 24, 36, 40]\n",
                "\n",
                "plt.bar(x, y)\n",
                "plt.xlabel('Categories')\n",
                "plt.ylabel('Values')\n",
                "plt.title('Bar Plot')\n",
                "plt.show()"
            ]
        },
        {
            "cell_type": "markdown",
            "metadata": {},
            "source": [
                "### Histogram"
            ]
        },
        {
            "cell_type": "code",
            "execution_count": None,
            "metadata": {},
            "outputs": [],
            "source": [
                "# Creating a histogram with dummy data\n",
                "data = np.random.randn(1000)\n",
                "\n",
                "plt.hist(data, bins=30, density=True, alpha=0.5, color='g')\n",
                "plt.xlabel('Value')\n",
                "plt.ylabel('Frequency')\n",
                "plt.title('Histogram')\n",
                "plt.show()"
            ]
        },
        {
            "cell_type": "markdown",
            "metadata": {},
            "source": [
                "### Boxplot"
            ]
        },
        {
            "cell_type": "code",
            "execution_count": None,
            "metadata": {},
            "outputs": [],
            "source": [
                "# Creating a boxplot with dummy data\n",
                "data = [np.random.normal(0, std, 100) for std in range(1, 4)]\n",
                "\n",
                "plt.boxplot(data, vert=True, patch_artist=True)\n",
                "plt.xlabel('Category')\n",
                "plt.ylabel('Value')\n",
                "plt.title('Boxplot')\n",
                "plt.show()"
            ]
        },
        {
            "cell_type": "markdown",
            "metadata": {},
            "source": [
                "### Lineplot"
            ]
        },
        {
            "cell_type": "code",
            "execution_count": None,
            "metadata": {},
            "outputs": [],
            "source": [
                "# Creating a lineplot with dummy data\n",
                "x = np.linspace(0, 10, 100)\n",
                "y = np.sin(x)\n",
                "\n",
                "plt.plot(x, y, linestyle='-', marker='o', color='b')\n",
                "plt.xlabel('X-axis')\n",
                "plt.ylabel('Y-axis')\n",
                "plt.title('Line Plot')\n",
                "plt.show()"
            ]
        },
        {
            "cell_type": "markdown",
            "metadata": {},
            "source": [
                "### Scatter Plot"
            ]
        },
        {
            "cell_type": "code",
            "execution_count": None,
            "metadata": {},
            "outputs": [],
            "source": [
                "# Creating a scatter plot with dummy data\n",
                "x = np.random.rand(50)\n",
                "y = np.random.rand(50)\n",
                "\n",
                "plt.scatter(x, y, color='r')\n",
                "plt.xlabel('X-axis')\n",
                "plt.ylabel('Y-axis')\n",
                "plt.title('Scatter Plot')\n",
                "plt.show()"
            ]
        },
        {
            "cell_type": "markdown",
            "metadata": {},
            "source": [
                "### Sine Wave Plot"
            ]
        },
        {
            "cell_type": "code",
            "execution_count": None,
            "metadata": {},
            "outputs": [],
            "source": [
                "# Plotting a sine wave over the linear space of 0-10 with 100 steps\n",
                "x = np.linspace(0, 10, 100)\n",
                "y = np.sin(x)\n",
                "\n",
                "plt.figure(figsize=(10, 6))\n",
                "plt.plot(x, y, marker='o', color='b', linestyle='-')\n",
                "plt.xlabel('X-axis')\n",
                "plt.ylabel('Y-axis')\n",
                "plt.title('Sine Wave Plot')\n",
                "plt.show()"
            ]
        },
        {
            "cell_type": "markdown",
            "metadata": {},
            "source": [
                "## Advanced Plotting\n",
                "\n",
                "### Multiple plots in the same axes"
           
