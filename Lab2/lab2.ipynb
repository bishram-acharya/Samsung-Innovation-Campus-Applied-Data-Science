{
 "cells": [
  {
   "cell_type": "markdown",
   "id": "0ebf48db-9b98-4fb6-8785-1ecad0f9258e",
   "metadata": {
    "id": "0ebf48db-9b98-4fb6-8785-1ecad0f9258e"
   },
   "source": [
    "### Topics to be discussed.\n",
    "- Mean, Median, Mode and their relationship ==> Skewed Right, symmetric, Skewed Left\n",
    "- Range, verience, standard deviation\n",
    "- Normal distribution and standard deviation (1 standard deviation of the mean- 68%, 2 standard deviation 95%, 3 standard deviation 99.7%...)\n",
    "- Z-score (standard deviation 1, mean = 0, z-score= number of sd)\n",
    "- Inter quatile range.\n",
    "- Statistical testing (t-test, one way, two way)\n",
    "- Correlation\n",
    "- Hypotheis testing"
   ]
  },
  {
   "cell_type": "markdown",
   "id": "fa5ea51e-77e6-4b23-9c7b-4bd33ddfb51b",
   "metadata": {
    "id": "fa5ea51e-77e6-4b23-9c7b-4bd33ddfb51b"
   },
   "source": [
    "### Problem 1: Mean, Median, Mode\n",
    "A retail company wants to analyze the sales data of its top-selling product over the past year to gain insights into customer purchasing behavior. The company has collected daily sales data for this product and wants to understand the central tendency of sales figures. By calculating the mean, median, and mode of the sales data, the company aims to identify patterns, understand typical sales volumes, and detect any skewness or anomalies in the sales distribution. Generate the daily sales data for a year by yourself. Analyze the result.\n",
    "- use daily_sales.csv"
   ]
  },
  {
   "cell_type": "code",
   "execution_count": 1,
   "id": "11a7e76d-5a27-4863-bf4e-4d1846d20fb3",
   "metadata": {
    "id": "11a7e76d-5a27-4863-bf4e-4d1846d20fb3"
   },
   "outputs": [],
   "source": [
    "import pandas as pd\n",
    "import matplotlib.pyplot as plt\n",
    "import numpy as np"
   ]
  },
  {
   "cell_type": "code",
   "execution_count": 2,
   "id": "405f4673-51a5-4575-9f5f-2026e5c0c792",
   "metadata": {
    "id": "405f4673-51a5-4575-9f5f-2026e5c0c792"
   },
   "outputs": [
    {
     "data": {
      "text/html": [
       "<div>\n",
       "<style scoped>\n",
       "    .dataframe tbody tr th:only-of-type {\n",
       "        vertical-align: middle;\n",
       "    }\n",
       "\n",
       "    .dataframe tbody tr th {\n",
       "        vertical-align: top;\n",
       "    }\n",
       "\n",
       "    .dataframe thead th {\n",
       "        text-align: right;\n",
       "    }\n",
       "</style>\n",
       "<table border=\"1\" class=\"dataframe\">\n",
       "  <thead>\n",
       "    <tr style=\"text-align: right;\">\n",
       "      <th></th>\n",
       "      <th>Daily Sales</th>\n",
       "    </tr>\n",
       "  </thead>\n",
       "  <tbody>\n",
       "    <tr>\n",
       "      <th>0</th>\n",
       "      <td>23</td>\n",
       "    </tr>\n",
       "    <tr>\n",
       "      <th>1</th>\n",
       "      <td>15</td>\n",
       "    </tr>\n",
       "    <tr>\n",
       "      <th>2</th>\n",
       "      <td>21</td>\n",
       "    </tr>\n",
       "    <tr>\n",
       "      <th>3</th>\n",
       "      <td>25</td>\n",
       "    </tr>\n",
       "    <tr>\n",
       "      <th>4</th>\n",
       "      <td>15</td>\n",
       "    </tr>\n",
       "  </tbody>\n",
       "</table>\n",
       "</div>"
      ],
      "text/plain": [
       "   Daily Sales\n",
       "0           23\n",
       "1           15\n",
       "2           21\n",
       "3           25\n",
       "4           15"
      ]
     },
     "execution_count": 2,
     "metadata": {},
     "output_type": "execute_result"
    }
   ],
   "source": [
    "daily_sales= pd.read_csv(\"C:/Users/bisra/Downloads/daily_sales.csv\")\n",
    "daily_sales.head()"
   ]
  },
  {
   "cell_type": "code",
   "execution_count": 3,
   "id": "34b20d4f",
   "metadata": {},
   "outputs": [
    {
     "data": {
      "text/html": [
       "<div>\n",
       "<style scoped>\n",
       "    .dataframe tbody tr th:only-of-type {\n",
       "        vertical-align: middle;\n",
       "    }\n",
       "\n",
       "    .dataframe tbody tr th {\n",
       "        vertical-align: top;\n",
       "    }\n",
       "\n",
       "    .dataframe thead th {\n",
       "        text-align: right;\n",
       "    }\n",
       "</style>\n",
       "<table border=\"1\" class=\"dataframe\">\n",
       "  <thead>\n",
       "    <tr style=\"text-align: right;\">\n",
       "      <th></th>\n",
       "      <th>Daily Sales</th>\n",
       "    </tr>\n",
       "  </thead>\n",
       "  <tbody>\n",
       "    <tr>\n",
       "      <th>count</th>\n",
       "      <td>365.000000</td>\n",
       "    </tr>\n",
       "    <tr>\n",
       "      <th>mean</th>\n",
       "      <td>19.695890</td>\n",
       "    </tr>\n",
       "    <tr>\n",
       "      <th>std</th>\n",
       "      <td>4.506175</td>\n",
       "    </tr>\n",
       "    <tr>\n",
       "      <th>min</th>\n",
       "      <td>7.000000</td>\n",
       "    </tr>\n",
       "    <tr>\n",
       "      <th>25%</th>\n",
       "      <td>17.000000</td>\n",
       "    </tr>\n",
       "    <tr>\n",
       "      <th>50%</th>\n",
       "      <td>20.000000</td>\n",
       "    </tr>\n",
       "    <tr>\n",
       "      <th>75%</th>\n",
       "      <td>23.000000</td>\n",
       "    </tr>\n",
       "    <tr>\n",
       "      <th>max</th>\n",
       "      <td>32.000000</td>\n",
       "    </tr>\n",
       "  </tbody>\n",
       "</table>\n",
       "</div>"
      ],
      "text/plain": [
       "       Daily Sales\n",
       "count   365.000000\n",
       "mean     19.695890\n",
       "std       4.506175\n",
       "min       7.000000\n",
       "25%      17.000000\n",
       "50%      20.000000\n",
       "75%      23.000000\n",
       "max      32.000000"
      ]
     },
     "execution_count": 3,
     "metadata": {},
     "output_type": "execute_result"
    }
   ],
   "source": [
    "daily_sales.describe()"
   ]
  },
  {
   "cell_type": "code",
   "execution_count": 4,
   "id": "53ab9f54",
   "metadata": {},
   "outputs": [
    {
     "data": {
      "text/plain": [
       "(Daily Sales    19.69589\n",
       " dtype: float64,\n",
       " Daily Sales    20.0\n",
       " dtype: float64,\n",
       " 0    22\n",
       " Name: Daily Sales, dtype: int64)"
      ]
     },
     "execution_count": 4,
     "metadata": {},
     "output_type": "execute_result"
    }
   ],
   "source": [
    "mean=daily_sales.mean()\n",
    "median=daily_sales.median()\n",
    "mode= daily_sales[\"Daily Sales\"].mode()\n",
    "mean, median, mode"
   ]
  },
  {
   "cell_type": "code",
   "execution_count": 5,
   "id": "2081421c",
   "metadata": {},
   "outputs": [
    {
     "data": {
      "text/plain": [
       "<AxesSubplot:>"
      ]
     },
     "execution_count": 5,
     "metadata": {},
     "output_type": "execute_result"
    },
    {
     "data": {
      "image/png": "[encoded data removed]",
      "text/plain": [
       "<Figure size 432x288 with 1 Axes>"
      ]
     },
     "metadata": {
      "needs_background": "light"
     },
     "output_type": "display_data"
    }
   ],
   "source": [
    "daily_sales['Daily Sales'].hist()"
   ]
  },
  {
   "cell_type": "markdown",
   "id": "235b12ce-6db8-4711-bbb3-ffe3c5794357",
   "metadata": {
    "id": "235b12ce-6db8-4711-bbb3-ffe3c5794357"
   },
   "source": [
    "### Problem 2: Data distribution and plots\n",
    "You are tasked with analyzing the average monthly sales data of a retail store chain over the past year to determine if there has been a significant change in sales compared to the previous year. This analysis will help the store management understand the performance trends and plan future strategies accordingly. Load sales_data.csv.\n",
    "- find mean sales\n",
    "- find median sales\n",
    "- find mode sales\n",
    "- find skewness\n",
    "- plot histogram\n",
    "- density plot"
   ]
  },
  {
   "cell_type": "code",
   "execution_count": 6,
   "id": "7bebeb25-26f2-4a70-a04f-c9554f92c5ab",
   "metadata": {
    "id": "7bebeb25-26f2-4a70-a04f-c9554f92c5ab"
   },
   "outputs": [],
   "source": [
    "sales_data=pd.read_csv(\"C:/Users/bisra/Downloads/sales_data.csv\")"
   ]
  },
  {
   "cell_type": "code",
   "execution_count": 7,
   "id": "b91b767b-d66c-4a2c-8651-e22ad1d68733",
   "metadata": {
    "id": "b91b767b-d66c-4a2c-8651-e22ad1d68733",
    "scrolled": true
   },
   "outputs": [
    {
     "data": {
      "text/plain": [
       "12244.63719635305"
      ]
     },
     "execution_count": 7,
     "metadata": {},
     "output_type": "execute_result"
    }
   ],
   "source": [
    "sales_data['Sales'].mean()"
   ]
  },
  {
   "cell_type": "code",
   "execution_count": 8,
   "id": "867801eb",
   "metadata": {},
   "outputs": [
    {
     "data": {
      "text/plain": [
       "12041.030379195941"
      ]
     },
     "execution_count": 8,
     "metadata": {},
     "output_type": "execute_result"
    }
   ],
   "source": [
    "sales_data['Sales'].median()"
   ]
  },
  {
   "cell_type": "code",
   "execution_count": 9,
   "id": "116157f8",
   "metadata": {},
   "outputs": [
    {
     "data": {
      "text/plain": [
       "0      7068.166360\n",
       "1      9545.928375\n",
       "2      9690.343445\n",
       "3     10432.130713\n",
       "4     11200.471625\n",
       "5     11231.795506\n",
       "6     12850.265253\n",
       "7     12936.213952\n",
       "8     14362.820521\n",
       "9     15292.157038\n",
       "10    15602.673970\n",
       "11    16722.679598\n",
       "Name: Sales, dtype: float64"
      ]
     },
     "execution_count": 9,
     "metadata": {},
     "output_type": "execute_result"
    }
   ],
   "source": [
    "sales_data['Sales'].mode()"
   ]
  },
  {
   "cell_type": "code",
   "execution_count": 10,
   "id": "6351a81d",
   "metadata": {},
   "outputs": [
    {
     "data": {
      "text/plain": [
       "-0.07734448027250686"
      ]
     },
     "execution_count": 10,
     "metadata": {},
     "output_type": "execute_result"
    }
   ],
   "source": [
    "sales_data['Sales'].skew()"
   ]
  },
  {
   "cell_type": "code",
   "execution_count": 11,
   "id": "c5a2748c",
   "metadata": {},
   "outputs": [],
   "source": [
    "# Thus, negatively skewed"
   ]
  },
  {
   "cell_type": "code",
   "execution_count": 12,
   "id": "990238f3",
   "metadata": {},
   "outputs": [
    {
     "data": {
      "text/plain": [
       "<AxesSubplot:>"
      ]
     },
     "execution_count": 12,
     "metadata": {},
     "output_type": "execute_result"
    },
    {
     "data": {
      "image/png": "[encoded data removed]",
      "text/plain": [
       "<Figure size 432x288 with 1 Axes>"
      ]
     },
     "metadata": {
      "needs_background": "light"
     },
     "output_type": "display_data"
    }
   ],
   "source": [
    "sales_data['Sales'].hist()"
   ]
  },
  {
   "cell_type": "code",
   "execution_count": 13,
   "id": "cad13efc",
   "metadata": {},
   "outputs": [
    {
     "name": "stderr",
     "output_type": "stream",
     "text": [
      "C:\\Users\\bisra\\anaconda3\\lib\\site-packages\\scipy\\__init__.py:146: UserWarning: A NumPy version >=1.16.5 and <1.23.0 is required for this version of SciPy (detected version 1.26.4\n",
      "  warnings.warn(f\"A NumPy version >={np_minversion} and <{np_maxversion}\"\n"
     ]
    },
    {
     "data": {
      "text/plain": [
       "<AxesSubplot:ylabel='Density'>"
      ]
     },
     "execution_count": 13,
     "metadata": {},
     "output_type": "execute_result"
    },
    {
     "data": {
      "image/png": "[encoded data removed]",
      "text/plain": [
       "<Figure size 432x288 with 1 Axes>"
      ]
     },
     "metadata": {
      "needs_background": "light"
     },
     "output_type": "display_data"
    }
   ],
   "source": [
    "sales_data.plot.density()"
   ]
  },
  {
   "cell_type": "markdown",
   "id": "e8ac4216-ce5a-4f85-9a8d-37dcb6302e3d",
   "metadata": {
    "id": "e8ac4216-ce5a-4f85-9a8d-37dcb6302e3d"
   },
   "source": [
    "### Problem 3: Outlier detection\n",
    "A university wants to analyze the exam scores of a statistics class to identify any students whose scores are significantly different from the rest. Detecting outliers will help the university provide additional support to struggling students or recognize exceptionally high performers. The university decides to use both the Z-score and the Interquartile Range (IQR) methods to identify these outliers in the exam scores dataset.\n",
    "- Generate the subject score for full mark 100 for 50 students.\n",
    "\n",
    "Hints:\n",
    "- Z-score is greater than 3.\n",
    "- below - Q1−1.5×IQR or above Q3+1.5×IQR"
   ]
  },
  {
   "cell_type": "code",
   "execution_count": 14,
   "id": "6e0a737c-3786-4b62-a432-ac3625c663fc",
   "metadata": {
    "id": "6e0a737c-3786-4b62-a432-ac3625c663fc"
   },
   "outputs": [],
   "source": [
    "rng=np.random.default_rng()\n",
    "marks=rng.poisson(70,50)\n",
    "marks[0]=1"
   ]
  },
  {
   "cell_type": "code",
   "execution_count": 15,
   "id": "849a232d",
   "metadata": {},
   "outputs": [
    {
     "data": {
      "text/plain": [
       "array([ 1, 74, 52, 72, 67, 66, 64, 81, 69, 60, 73, 66, 65, 67, 81, 67, 72,\n",
       "       70, 70, 73, 85, 75, 80, 83, 67, 86, 63, 80, 69, 64, 72, 62, 67, 95,\n",
       "       65, 78, 79, 68, 67, 54, 73, 70, 67, 72, 66, 76, 74, 64, 63, 59],\n",
       "      dtype=int64)"
      ]
     },
     "execution_count": 15,
     "metadata": {},
     "output_type": "execute_result"
    }
   ],
   "source": [
    "marks"
   ]
  },
  {
   "cell_type": "code",
   "execution_count": 16,
   "id": "6e7fd3f2-34b5-4635-8e90-994e180e9017",
   "metadata": {
    "id": "6e7fd3f2-34b5-4635-8e90-994e180e9017"
   },
   "outputs": [
    {
     "name": "stdout",
     "output_type": "stream",
     "text": [
      "[-5.39655205e+00  3.91698019e-01 -1.35270611e+00  2.33115825e-01\n",
      " -1.63339660e-01 -2.42630756e-01 -4.01212950e-01  9.46735697e-01\n",
      " -4.75746581e-03 -7.18377338e-01  3.12406922e-01 -2.42630756e-01\n",
      " -3.21921853e-01 -1.63339660e-01  9.46735697e-01 -1.63339660e-01\n",
      "  2.33115825e-01  7.45336311e-02  7.45336311e-02  3.12406922e-01\n",
      "  1.26390008e+00  4.70989115e-01  8.67444600e-01  1.10531789e+00\n",
      " -1.63339660e-01  1.34319118e+00 -4.80504047e-01  8.67444600e-01\n",
      " -4.75746581e-03 -4.01212950e-01  2.33115825e-01 -5.59795144e-01\n",
      " -1.63339660e-01  2.05681105e+00 -3.21921853e-01  7.08862406e-01\n",
      "  7.88153503e-01 -8.40485627e-02 -1.63339660e-01 -1.19412392e+00\n",
      "  3.12406922e-01  7.45336311e-02 -1.63339660e-01  2.33115825e-01\n",
      " -2.42630756e-01  5.50280212e-01  3.91698019e-01 -4.01212950e-01\n",
      " -4.80504047e-01 -7.97668435e-01]\n"
     ]
    },
    {
     "data": {
      "text/plain": [
       "array([1], dtype=int64)"
      ]
     },
     "execution_count": 16,
     "metadata": {},
     "output_type": "execute_result"
    }
   ],
   "source": [
    "\n",
    "\n",
    "# Define a z-score threshold of 3 for considering values as outliers\n",
    "threshold = 3\n",
    "\n",
    "# Define the z_scores function\n",
    "def z_scores(x, data):\n",
    "    print((x - data.mean()) / data.std())\n",
    "    return ((x - data.mean()) / data.std())\n",
    "\n",
    "\n",
    "# Calculate z-scores for the entire marks array\n",
    "z_scores_marks = z_scores(marks, marks)\n",
    "\n",
    "# Identify outliers\n",
    "outliers = marks[np.abs(z_scores_marks) > threshold ]\n",
    "\n",
    "\n",
    "\n",
    "outliers\n"
   ]
  },
  {
   "cell_type": "code",
   "execution_count": 17,
   "id": "d2a3c0a6",
   "metadata": {},
   "outputs": [
    {
     "data": {
      "text/plain": [
       "(65.25, 69.0, 74.0, 95.0)"
      ]
     },
     "execution_count": 17,
     "metadata": {},
     "output_type": "execute_result"
    }
   ],
   "source": [
    "q1=np.percentile(marks,25)\n",
    "q2=np.percentile(marks,50)\n",
    "q3=np.percentile(marks,75)\n",
    "q4=np.percentile(marks,100)\n",
    "q1,q2,q3,q4"
   ]
  },
  {
   "cell_type": "code",
   "execution_count": 18,
   "id": "d123a8bf",
   "metadata": {},
   "outputs": [
    {
     "name": "stdout",
     "output_type": "stream",
     "text": [
      "1\n",
      "52\n",
      "95\n"
     ]
    }
   ],
   "source": [
    "IQR=q3-q1\n",
    "list_index=[]\n",
    "for i, mark in enumerate(marks):\n",
    "    if mark<(q1-1.5*IQR) or mark> (q3+1.5*IQR):\n",
    "        list_index.append(i)\n",
    "for item in list_index:\n",
    "    print(marks[item])"
   ]
  },
  {
   "cell_type": "markdown",
   "id": "fc5f431d-5d13-4e7d-8723-66be2ae00eba",
   "metadata": {
    "id": "fc5f431d-5d13-4e7d-8723-66be2ae00eba"
   },
   "source": [
    "### Problem 4: t-test for ML models\n",
    "Your task is to write Python code to perform t-tests on the testing results of five different machine learning algorithms. First, generate testing results for each of the five models, with each model having results for 50 test sets. Then, using these generated results, conduct t-tests to compare the results of the first model with those of each of the remaining four models. The goal is to determine if there is a statistically significant difference between the performance of the first model and each of the other models. Finally, print the results of each t-test, which will include the t-statistic and p-value for each comparison. And analyze the result whether the methods are statistically significant or not. What does it mean?"
   ]
  },
  {
   "cell_type": "code",
   "execution_count": 19,
   "id": "30004282-3e27-49f4-aa53-1a54a014b00c",
   "metadata": {
    "id": "30004282-3e27-49f4-aa53-1a54a014b00c"
   },
   "outputs": [],
   "source": [
    "model0=np.random.randint(50,high=100,size=50)\n",
    "model1=np.random.randint(50,high=100,size=50)\n",
    "model2=np.random.randint(50,high=100,size=50)\n",
    "model3=np.random.randint(50,high=100,size=50)\n",
    "model4=np.random.randint(50,high=100,size=50)"
   ]
  },
  {
   "cell_type": "code",
   "execution_count": 20,
   "id": "59d35a3c",
   "metadata": {},
   "outputs": [
    {
     "data": {
      "text/plain": [
       "50"
      ]
     },
     "execution_count": 20,
     "metadata": {},
     "output_type": "execute_result"
    }
   ],
   "source": [
    "len(model0)"
   ]
  },
  {
   "cell_type": "code",
   "execution_count": 21,
   "id": "f88a75f2-e368-45b5-aef0-69c8d15a754c",
   "metadata": {
    "id": "f88a75f2-e368-45b5-aef0-69c8d15a754c"
   },
   "outputs": [
    {
     "name": "stdout",
     "output_type": "stream",
     "text": [
      "Model 0 vs Model 1: t-statistic = 1.4793, p-value = 0.1423\n",
      "Model 0 vs Model 2: t-statistic = 0.7969, p-value = 0.4275\n",
      "Model 0 vs Model 3: t-statistic = 2.6936, p-value = 0.0083\n",
      "Model 0 vs Model 4: t-statistic = 1.5248, p-value = 0.1305\n",
      "The difference between Model 0 and Model 1 is not statistically significant (p-value = 0.1423).\n",
      "The difference between Model 0 and Model 2 is not statistically significant (p-value = 0.4275).\n",
      "The difference between Model 0 and Model 3 is statistically significant (p-value = 0.0083).\n",
      "The difference between Model 0 and Model 4 is not statistically significant (p-value = 0.1305).\n"
     ]
    }
   ],
   "source": [
    "import numpy as np\n",
    "from scipy.stats import ttest_ind\n",
    "\n",
    "# Generate testing results for each model\n",
    "model0 = np.random.randint(50, high=100, size=50)\n",
    "model1 = np.random.randint(50, high=100, size=50)\n",
    "model2 = np.random.randint(50, high=100, size=50)\n",
    "model3 = np.random.randint(50, high=100, size=50)\n",
    "model4 = np.random.randint(50, high=100, size=50)\n",
    "\n",
    "# Function to perform t-test\n",
    "def t_test(data1, data2):\n",
    "    t_stat, p_value = ttest_ind(data1, data2)\n",
    "    return t_stat, p_value\n",
    "\n",
    "# Conductng t-tests\n",
    "t_stat1, p_value1 = t_test(model0, model1)\n",
    "t_stat2, p_value2 = t_test(model0, model2)\n",
    "t_stat3, p_value3 = t_test(model0, model3)\n",
    "t_stat4, p_value4 = t_test(model0, model4)\n",
    "\n",
    "# Print the results of each t-test\n",
    "print(f\"Model 0 vs Model 1: t-statistic = {t_stat1:.4f}, p-value = {p_value1:.4f}\")\n",
    "print(f\"Model 0 vs Model 2: t-statistic = {t_stat2:.4f}, p-value = {p_value2:.4f}\")\n",
    "print(f\"Model 0 vs Model 3: t-statistic = {t_stat3:.4f}, p-value = {p_value3:.4f}\")\n",
    "print(f\"Model 0 vs Model 4: t-statistic = {t_stat4:.4f}, p-value = {p_value4:.4f}\")\n",
    "\n",
    "# Analysis of results\n",
    "significance_level = 0.05\n",
    "def analyze_results(p_value, model_num):\n",
    "    if p_value < significance_level:\n",
    "        print(f\"The difference between Model 0 and Model {model_num} is statistically significant (p-value = {p_value:.4f}).\")\n",
    "    else:\n",
    "        print(f\"The difference between Model 0 and Model {model_num} is not statistically significant (p-value = {p_value:.4f}).\")\n",
    "\n",
    "analyze_results(p_value1, 1)\n",
    "analyze_results(p_value2, 2)\n",
    "analyze_results(p_value3, 3)\n",
    "analyze_results(p_value4, 4)\n"
   ]
  },
  {
   "cell_type": "markdown",
   "id": "9724abb7-177d-48de-bde6-03a909335d66",
   "metadata": {
    "id": "9724abb7-177d-48de-bde6-03a909335d66"
   },
   "source": [
    "### Problem 5: Correlation Analysis\n",
    "- A coffee shop owner wants to determine whether there is a relationship between the amount of coffee sold and the temperature outside. The owner collects data on the number of cups of coffee sold and the temperature outside for 20 days.\n",
    "- Download mtcars.csv file and perform the correlation analysis. See the result and analyze it. Also plot the heatmap for it."
   ]
  },
  {
   "cell_type": "code",
   "execution_count": 22,
   "id": "21bceca6",
   "metadata": {},
   "outputs": [
    {
     "data": {
      "text/plain": [
       "array([33, 35, 14, 33, 29,  6, 32, 23, 29,  9, 31, 35,  4, 16, 35, 21, 22,\n",
       "       28, 22, 28])"
      ]
     },
     "execution_count": 22,
     "metadata": {},
     "output_type": "execute_result"
    }
   ],
   "source": [
    "import random\n",
    "temp= [random.randint(0, 35) for i in range(20)]\n",
    "temp=np.array(temp)\n",
    "temp"
   ]
  },
  {
   "cell_type": "code",
   "execution_count": 23,
   "id": "4b75be9d",
   "metadata": {},
   "outputs": [
    {
     "data": {
      "text/plain": [
       "array([73, 32, 89, 44, 40, 34, 86, 87, 88, 33, 28, 96, 56, 57, 90, 66, 74,\n",
       "       80, 58, 98])"
      ]
     },
     "execution_count": 23,
     "metadata": {},
     "output_type": "execute_result"
    }
   ],
   "source": [
    "cars_sold = [random.randint(20, 100) for i in range(20)]\n",
    "cars_sold=np.array(cars_sold)\n",
    "cars_sold"
   ]
  },
  {
   "cell_type": "code",
   "execution_count": 24,
   "id": "3c099ab3",
   "metadata": {},
   "outputs": [
    {
     "data": {
      "text/plain": [
       "array([[1.        , 0.27724823],\n",
       "       [0.27724823, 1.        ]])"
      ]
     },
     "execution_count": 24,
     "metadata": {},
     "output_type": "execute_result"
    }
   ],
   "source": [
    "corr=np.corrcoef(temp,cars_sold)\n",
    "corr"
   ]
  },
  {
   "cell_type": "code",
   "execution_count": 25,
   "id": "cf592734",
   "metadata": {},
   "outputs": [],
   "source": [
    "type=None\n",
    "if np.abs(corr[0][1])>0 and np.abs(corr[0][1])<0.3:\n",
    "    type = \"A\"\n",
    "if np.abs(corr[0][1])>0.3 and np.abs(corr[0][1])<0.7:\n",
    "    type = \"B\"\n",
    "if np.abs(corr[0][1])>0.7 and np.abs(corr[0][1])<1:\n",
    "    type = \"C\"\n",
    "\n",
    "corr_type={\n",
    "    \"A\" :\"No correlation or low correlation\",\n",
    "    \"B\" : \"Moderately Correlated\",\n",
    "    \"C\": \"Highly Correlated\"\n",
    "}\n"
   ]
  },
  {
   "cell_type": "code",
   "execution_count": 26,
   "id": "8cf8d817",
   "metadata": {},
   "outputs": [
    {
     "name": "stdout",
     "output_type": "stream",
     "text": [
      "The correlation coefficient value for the two array is 0.2772482319256588. Thus they can be termed as No correlation or low correlation\n"
     ]
    }
   ],
   "source": [
    "print(f'The correlation coefficient value for the two array is {corr[0][1]}. Thus they can be termed as {corr_type[type]}')"
   ]
  },
  {
   "cell_type": "code",
   "execution_count": 27,
   "id": "f62641d0-8ad5-409f-a30f-c9af2c5187e5",
   "metadata": {
    "id": "f62641d0-8ad5-409f-a30f-c9af2c5187e5",
    "scrolled": true
   },
   "outputs": [
    {
     "data": {
      "image/png": "[encoded data removed]",
      "text/plain": [
       "<Figure size 864x576 with 2 Axes>"
      ]
     },
     "metadata": {
      "needs_background": "light"
     },
     "output_type": "display_data"
    }
   ],
   "source": [
    "import seaborn as sns\n",
    "import matplotlib.pyplot as plt\n",
    "\n",
    "# Load the dataset\n",
    "mtcars = pd.read_csv(\"C:/Users/bisra/Downloads/mtcars.csv\")\n",
    "\n",
    "# Perform correlation analysis\n",
    "correlation_matrix = mtcars.corr()\n",
    "\n",
    "# Plot the heatmap for the correlation matrix\n",
    "plt.figure(figsize=(12, 8))\n",
    "sns.heatmap(correlation_matrix, annot=True, cmap='coolwarm', linewidths=0.5)\n",
    "plt.title('Correlation Heatmap of mtcars Dataset')\n",
    "plt.show()\n"
   ]
  },
  {
   "cell_type": "code",
   "execution_count": 28,
   "id": "03e89c2a",
   "metadata": {},
   "outputs": [
    {
     "name": "stdout",
     "output_type": "stream",
     "text": [
      "   Variable 1 Variable 2  Correlation Coefficient  \\\n",
      "0         mpg        cyl                -0.852162   \n",
      "1         mpg       disp                -0.847551   \n",
      "2         mpg         hp                -0.776168   \n",
      "3         mpg         wt                -0.867659   \n",
      "4         mpg       drat                 0.681172   \n",
      "5         mpg         vs                 0.664039   \n",
      "6         cyl       disp                 0.902033   \n",
      "7         cyl         hp                 0.832447   \n",
      "8         cyl       drat                -0.699938   \n",
      "9         cyl         vs                -0.810812   \n",
      "10       disp         wt                 0.887980   \n",
      "11       disp       qsec                -0.433698   \n",
      "\n",
      "                         Relationship Description  \n",
      "0     More cylinders, lower mpg (fuel efficiency)  \n",
      "1                  Higher displacement, lower mpg  \n",
      "2                    Higher horsepower, lower mpg  \n",
      "3                       Heavier weight, lower mpg  \n",
      "4              Higher rear axle ratio, higher mpg  \n",
      "5                   V/S configuration, higher mpg  \n",
      "6             More cylinders, higher displacement  \n",
      "7               More cylinders, higher horsepower  \n",
      "8           More cylinders, lower rear axle ratio  \n",
      "9   More cylinders, less likely V/S configuration  \n",
      "10            Higher displacement, heavier weight  \n",
      "11   Higher displacement, lower quarter-mile time  \n"
     ]
    }
   ],
   "source": [
    "import pandas as pd\n",
    "\n",
    "correlation_table = pd.DataFrame([\n",
    "    {'Variable 1': 'mpg', 'Variable 2': 'cyl', 'Correlation Coefficient': correlation_matrix.loc['mpg', 'cyl'], 'Relationship Description': 'More cylinders, lower mpg (fuel efficiency)'},\n",
    "    {'Variable 1': 'mpg', 'Variable 2': 'disp', 'Correlation Coefficient': correlation_matrix.loc['mpg', 'disp'], 'Relationship Description': 'Higher displacement, lower mpg'},\n",
    "    {'Variable 1': 'mpg', 'Variable 2': 'hp', 'Correlation Coefficient': correlation_matrix.loc['mpg', 'hp'], 'Relationship Description': 'Higher horsepower, lower mpg'},\n",
    "    {'Variable 1': 'mpg', 'Variable 2': 'wt', 'Correlation Coefficient': correlation_matrix.loc['mpg', 'wt'], 'Relationship Description': 'Heavier weight, lower mpg'},\n",
    "    {'Variable 1': 'mpg', 'Variable 2': 'drat', 'Correlation Coefficient': correlation_matrix.loc['mpg', 'drat'], 'Relationship Description': 'Higher rear axle ratio, higher mpg'},\n",
    "    {'Variable 1': 'mpg', 'Variable 2': 'vs', 'Correlation Coefficient': correlation_matrix.loc['mpg', 'vs'], 'Relationship Description': 'V/S configuration, higher mpg'},\n",
    "    {'Variable 1': 'cyl', 'Variable 2': 'disp', 'Correlation Coefficient': correlation_matrix.loc['cyl', 'disp'], 'Relationship Description': 'More cylinders, higher displacement'},\n",
    "    {'Variable 1': 'cyl', 'Variable 2': 'hp', 'Correlation Coefficient': correlation_matrix.loc['cyl', 'hp'], 'Relationship Description': 'More cylinders, higher horsepower'},\n",
    "    {'Variable 1': 'cyl', 'Variable 2': 'drat', 'Correlation Coefficient': correlation_matrix.loc['cyl', 'drat'], 'Relationship Description': 'More cylinders, lower rear axle ratio'},\n",
    "    {'Variable 1': 'cyl', 'Variable 2': 'vs', 'Correlation Coefficient': correlation_matrix.loc['cyl', 'vs'], 'Relationship Description': 'More cylinders, less likely V/S configuration'},\n",
    "    {'Variable 1': 'disp', 'Variable 2': 'wt', 'Correlation Coefficient': correlation_matrix.loc['disp', 'wt'], 'Relationship Description': 'Higher displacement, heavier weight'},\n",
    "    {'Variable 1': 'disp', 'Variable 2': 'qsec', 'Correlation Coefficient': correlation_matrix.loc['disp', 'qsec'], 'Relationship Description': 'Higher displacement, lower quarter-mile time'}\n",
    "])\n",
    "\n",
    "# Display the correlation table\n",
    "print(correlation_table)\n"
   ]
  },
  {
   "cell_type": "markdown",
   "id": "58750deb",
   "metadata": {},
   "source": [
    "\n",
    "## Analysis: \n",
    "#### - MPG (Miles per Gallon) is Positively correlated with drat (0.68) and vs (0.66), indicating that cars with a higher rear axle ratio and V/S configuration tend to have better fuel efficiency.\n",
    "#### - Cylinders (cyl) is Positively correlated with disp (0.90) and hp (0.83), suggesting that cars with more cylinders typically have larger engines and higher horsepower.\n"
   ]
  },
  {
   "cell_type": "markdown",
   "id": "ef0edd45-ce1c-4536-940e-027a49a38203",
   "metadata": {
    "id": "ef0edd45-ce1c-4536-940e-027a49a38203"
   },
   "source": [
    "### Problem 6: Hypothesis testing\n",
    "Imagine a company, samsung, that manufactures a popular smartphone. They have introduced a new battery designed to last longer than the previous model, which had an average battery life of 10 hours. To determine if the new battery indeed lasts longer, samsung conducts a study where they test 30 smartphones with the new battery and record their battery life. The goal is to test the hypothesis that the mean battery life of the new batteries is greater than 10 hours using a one-tailed test."
   ]
  },
  {
   "cell_type": "code",
   "execution_count": 29,
   "id": "572cd556-ae7d-4999-912d-1e0a773f1739",
   "metadata": {
    "id": "572cd556-ae7d-4999-912d-1e0a773f1739"
   },
   "outputs": [
    {
     "data": {
      "text/plain": [
       "'\\nNull: mean =10\\nAlternate : mean>10\\n\\n'"
      ]
     },
     "execution_count": 29,
     "metadata": {},
     "output_type": "execute_result"
    }
   ],
   "source": [
    "'''\n",
    "Null: mean =10\n",
    "Alternate : mean>10\n",
    "\n",
    "'''"
   ]
  },
  {
   "cell_type": "code",
   "execution_count": 30,
   "id": "4e2060d2-5e96-4f05-b5ba-5fc4fdfb1b24",
   "metadata": {
    "id": "4e2060d2-5e96-4f05-b5ba-5fc4fdfb1b24"
   },
   "outputs": [
    {
     "name": "stdout",
     "output_type": "stream",
     "text": [
      "Sample Mean: 10.743333333333334\n",
      "Sample Standard Deviation: 0.43126384702073783\n",
      "t-statistic: 9.440634479907983\n",
      "p-value (one-tailed): 1.198036584163666e-10\n",
      "Reject the null hypothesis: The new battery lasts longer than 10 hours.\n"
     ]
    }
   ],
   "source": [
    "import numpy as np\n",
    "from scipy import stats\n",
    "\n",
    "# Sample data: battery life of 30 smartphones\n",
    "battery_life = [10.5, 11.0, 9.8, 10.7, 11.2, 10.3, 10.9, 11.1, 10.4, 11.5,\n",
    "                10.6, 10.8, 10.2, 11.3, 10.0, 10.1, 11.4, 10.5, 10.9, 10.7,\n",
    "                10.6, 11.0, 10.3, 10.8, 10.9, 11.2, 10.5, 11.1, 10.7, 11.3]\n",
    "\n",
    "# Population mean under null hypothesis\n",
    "mu_0 = 10\n",
    "\n",
    "# Sample mean and standard deviation\n",
    "sample_mean = np.mean(battery_life)\n",
    "sample_std = np.std(battery_life, ddof=1)\n",
    "n = len(battery_life)\n",
    "\n",
    "# Perform one-sample t-test\n",
    "t_stat, p_value = stats.ttest_1samp(battery_life, mu_0)\n",
    "\n",
    "'''\n",
    "The scipy.stats.ttest_1samp function by default performs a two-tailed test, which tests for any significant difference from the population mean (either greater than or less than). However, our hypothesis is one-tailed because we are only interested in whether the mean battery life is greater than 10 hours.\n",
    "\n",
    "To convert the two-tailed p-value to a one-tailed p-value, we need to divide the two-tailed p-value by 2.\n",
    "'''\n",
    "# Since this is a one-tailed test (greater than), here I divide the p-value by 2\n",
    "p_value_one_tailed = p_value / 2\n",
    "\n",
    "# Display the results\n",
    "print(f\"Sample Mean: {sample_mean}\")\n",
    "print(f\"Sample Standard Deviation: {sample_std}\")\n",
    "print(f\"t-statistic: {t_stat}\")\n",
    "print(f\"p-value (one-tailed): {p_value_one_tailed}\")\n",
    "\n",
    "# Determine if we reject the null hypothesis\n",
    "alpha = 0.05\n",
    "if p_value_one_tailed < alpha and t_stat > 0:\n",
    "    print(\"Reject the null hypothesis: The new battery lasts longer than 10 hours.\")\n",
    "else:\n",
    "    print(\"Fail to reject the null hypothesis: There is not enough evidence to say the new battery lasts longer than 10 hours.\")\n"
   ]
  },
  {
   "cell_type": "code",
   "execution_count": 33,
   "id": "27bc7c8f",
   "metadata": {},
   "outputs": [
    {
     "name": "stdout",
     "output_type": "stream",
     "text": [
      "Frequency Table:\n",
      " O     5\n",
      "A     4\n",
      "B     3\n",
      "AB    3\n",
      "Name: BloodType, dtype: int64\n",
      "\n",
      "Value Count of Blood Type:\n",
      " O     5\n",
      "A     4\n",
      "B     3\n",
      "AB    3\n",
      "Name: BloodType, dtype: int64\n",
      "\n",
      "Value Count of Gender:\n",
      " Female    8\n",
      "Male      7\n",
      "Name: Gender, dtype: int64\n",
      "\n",
      "Value Count of Blood Type as Proportions:\n",
      " O     0.333333\n",
      "A     0.266667\n",
      "B     0.200000\n",
      "AB    0.200000\n",
      "Name: BloodType, dtype: float64\n",
      "\n",
      "Value Count of Gender as Proportions:\n",
      " Female    0.533333\n",
      "Male      0.466667\n",
      "Name: Gender, dtype: float64\n",
      "\n",
      "Cross Table:\n",
      " Gender     Female  Male\n",
      "BloodType              \n",
      "A               1     3\n",
      "AB              1     2\n",
      "B               3     0\n",
      "O               3     2\n",
      "\n",
      "Cross Table with Margins:\n",
      " Gender     Female  Male  All\n",
      "BloodType                   \n",
      "A               1     3    4\n",
      "AB              1     2    3\n",
      "B               3     0    3\n",
      "O               3     2    5\n",
      "All             8     7   15\n",
      "\n",
      "95% Confidence Interval for 100 surveyed: (0.45249302291006066, 0.6475069770899394)\n",
      "95% Confidence Interval for 1000 surveyed: (0.5191655864637935, 0.5808344135362066)\n",
      "\n",
      "ANOVA Result: F_onewayResult(statistic=2.8390019514914977, pvalue=0.0847904139715904)\n"
     ]
    }
   ],
   "source": [
    "import pandas as pd\n",
    "import numpy as np\n",
    "import scipy.stats as st\n",
    "from scipy.stats import f_oneway\n",
    "\n",
    "# Create my own hypothetical dataset\n",
    "data = {\n",
    "    'BloodType': ['A', 'B', 'A', 'O', 'AB', 'O', 'B', 'A', 'O', 'AB', 'A', 'B', 'O', 'AB', 'O'],\n",
    "    'Gender': ['Male', 'Female', 'Female', 'Male', 'Male', 'Female', 'Female', 'Male', 'Female', 'Female', 'Male', 'Female', 'Male', 'Male', 'Female']\n",
    "}\n",
    "\n",
    "df = pd.DataFrame(data)\n",
    "\n",
    "# Frequency Table\n",
    "frequency_table = df['BloodType'].value_counts()\n",
    "print(\"Frequency Table:\\n\", frequency_table)\n",
    "\n",
    "# Value Count of Blood Type\n",
    "blood_type_counts = df['BloodType'].value_counts()\n",
    "print(\"\\nValue Count of Blood Type:\\n\", blood_type_counts)\n",
    "\n",
    "# Value Count of Gender\n",
    "gender_counts = df['Gender'].value_counts()\n",
    "print(\"\\nValue Count of Gender:\\n\", gender_counts)\n",
    "\n",
    "# Value Count as Proportions\n",
    "blood_type_proportions = df['BloodType'].value_counts(normalize=True)\n",
    "gender_proportions = df['Gender'].value_counts(normalize=True)\n",
    "print(\"\\nValue Count of Blood Type as Proportions:\\n\", blood_type_proportions)\n",
    "print(\"\\nValue Count of Gender as Proportions:\\n\", gender_proportions)\n",
    "\n",
    "# Cross Table\n",
    "cross_table = pd.crosstab(df['BloodType'], df['Gender'])\n",
    "print(\"\\nCross Table:\\n\", cross_table)\n",
    "\n",
    "# Cros Table with Margins\n",
    "cross_table_with_margins = pd.crosstab(df['BloodType'], df['Gender'], margins=True)\n",
    "print(\"\\nCross Table with Margins:\\n\", cross_table_with_margins)\n",
    "\n",
    "# Function to calculate the confidence interval\n",
    "def confidence_interval(n, x, confidence=0.95):\n",
    "    p_hat = x / n\n",
    "    z = st.norm.ppf(1 - (1 - confidence) / 2)\n",
    "    margin_of_error = z * (p_hat * (1 - p_hat) / n)**0.5\n",
    "    return (p_hat - margin_of_error, p_hat + margin_of_error)\n",
    "\n",
    "# Scenario 1: 100 surveyed, 55 positive\n",
    "ci_100 = confidence_interval(100, 55)\n",
    "print(\"\\n95% Confidence Interval for 100 surveyed:\", ci_100)\n",
    "\n",
    "# Scenario 2: 1000 surveyed, 550 positive\n",
    "ci_1000 = confidence_interval(1000, 550)\n",
    "print(\"95% Confidence Interval for 1000 surveyed:\", ci_1000)\n",
    "\n",
    "# Test scores for three groups\n",
    "x1 = np.array([82, 93, 61, 74, 69, 70, 53])\n",
    "x2 = np.array([71, 62, 85, 94, 78, 66, 71])\n",
    "x3 = np.array([90, 88, 77, 85, 95, 80, 79])\n",
    "\n",
    "# Perform ANOVA\n",
    "anova_result = f_oneway(x1, x2, x3)\n",
    "print(\"\\nANOVA Result:\", anova_result)\n"
   ]
  },
  {
   "cell_type": "code",
   "execution_count": null,
   "id": "50e25ecf",
   "metadata": {},
   "outputs": [],
   "source": []
  }
 ],
 "metadata": {
  "colab": {
   "provenance": []
  },
  "kernelspec": {
   "display_name": "Python 3 (ipykernel)",
   "language": "python",
   "name": "python3"
  },
  "language_info": {
   "codemirror_mode": {
    "name": "ipython",
    "version": 3
   },
   "file_extension": ".py",
   "mimetype": "text/x-python",
   "name": "python",
   "nbconvert_exporter": "python",
   "pygments_lexer": "ipython3",
   "version": "3.9.12"
  }
 },
 "nbformat": 4,
 "nbformat_minor": 5
}
